{
  "nbformat": 4,
  "nbformat_minor": 0,
  "metadata": {
    "colab": {
      "provenance": []
    },
    "kernelspec": {
      "name": "python3",
      "display_name": "Python 3"
    },
    "language_info": {
      "name": "python"
    }
  },
  "cells": [
    {
      "cell_type": "markdown",
      "source": [
        "Here's the repo URL for my GitHub page: https://github.com/CharismatiK/a2.git"
      ],
      "metadata": {
        "id": "8pm3CjcYMGaT"
      }
    },
    {
      "cell_type": "code",
      "source": [],
      "metadata": {
        "id": "WCxx3lVhL9ln"
      },
      "execution_count": null,
      "outputs": []
    }
  ]
}