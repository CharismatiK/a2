{
  "nbformat": 4,
  "nbformat_minor": 0,
  "metadata": {
    "colab": {
      "provenance": []
    },
    "kernelspec": {
      "name": "python3",
      "display_name": "Python 3"
    },
    "language_info": {
      "name": "python"
    }
  },
  "cells": [
    {
      "cell_type": "code",
      "execution_count": 2,
      "metadata": {
        "colab": {
          "base_uri": "https://localhost:8080/"
        },
        "id": "g329HZtBIUXG",
        "outputId": "8e53e4ae-a972-4931-f63b-37489b7d0825"
      },
      "outputs": [
        {
          "output_type": "stream",
          "name": "stdout",
          "text": [
            "This ain't regression :D\n"
          ]
        }
      ],
      "source": [
        "print('This ain\\'t regression :D')"
      ]
    },
    {
      "cell_type": "code",
      "source": [],
      "metadata": {
        "id": "UI_olKSjIuVC"
      },
      "execution_count": null,
      "outputs": []
    }
  ]
}